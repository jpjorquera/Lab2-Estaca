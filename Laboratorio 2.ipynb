{
 "cells": [
  {
   "cell_type": "markdown",
   "metadata": {},
   "source": [
    "<table style=\"width:100%\">\n",
    "  <tr>\n",
    "    <th align=\"right\"><img src=\"img/dilogo.png\" style=\"float:left;height:90px\"></th>\n",
    "    <th align=\"center\">\n",
    "    <h1 align=\"center\">Laboratorio 2</h1>\n",
    "    <h2 align=\"center\">Profesor: Ricardo Ñanculef</h2>\n",
    "    <h3 align=\"center\">Ayudante: Gabriel Ortega</h3>\n",
    "    <h3 align=\"center\">Juan Pablo Jorquera; 201573533-6; Malla nueva</h3>\n",
    "    <h3 align=\"center\">David Medel; 201573548-4; Malla nueva</h3>\n",
    "    <h3 align=\"center\">Octubre 2019</h3>\n",
    "    </th> \n",
    "    <th align=\"left\"><img src=\"img/usmlogo.png\" style=\"float:right;height:85px\"></th>\n",
    "  </tr>"
   ]
  },
  {
   "cell_type": "markdown",
   "metadata": {},
   "source": [
    "> <font size = \"+2\"><b>Antes de corregir se correrá su notebook utilizando la función Cell $\\rightarrow$ Run All.</b> <br> <br>\n",
    "Es posible que las simulaciones en este laboratorio se tarden un poco más en ejecutarse, sin embargo, mantenga un tope de 5 minutos.\n",
    "</font>\n",
    "\n",
    "\n",
    "## Instrucciones\n",
    "\n",
    "La modalidad de trabajo será mediante el uso de jupyter notebook. El notebook debe ser desarrollado en parejas o individual y ser entregado el 15 de octubre de 2019.\n",
    "\n",
    "La **modalidad de entrega será un archivo Apellido1_Apellido2_Lab2.zip** que contenga un notebook que incluya todas las preguntas con sus respectivas respuestas, un README que indique la forma correcta de ejecutar su notebook y cualquier archivo/carpeta extra que considere necesario para el correcto funcionamiento de su tarea (no es necesario adjuntar los .csv que se utilicen para trabajar). El laboratorio puede ser trabajado tanto en lenguaje R como en python 3 (para los que usen python 2.X, absténganse a las consecuencias). Lea bien el enunciado.\n",
    "\n",
    "\n",
    "**Cualquier copia detectada implicará nota 0 en el laboratorio correspondiente y se notificará la situación al profesor.**\n",
    "\n",
    "\n"
   ]
  },
  {
   "cell_type": "markdown",
   "metadata": {},
   "source": [
    "## 1. La paradoja del cumpleaños\n",
    "\n",
    "La paradoja del cumpleaños es un problema matemático cuya respuesta es sorprendente dado el contexto del problema. En esta sección usted trabajará con este problema y podrá encontrar la respuesta que sorprendió a muchos. La paradoja es la siguiente: $N$ personas se reunen casualmente ¿Cuál es la probabilidad de que al menos 2 de ellas estén de cumpleaños el mismo día? **Considere año normal de 365 días.**\n",
    "\n",
    "> a) Plantee la obtención de esta probabilidad en función de N. *Hint:* $\\frac{Casos\\;favorables}{Casos\\;posibles}$\n"
   ]
  },
  {
   "cell_type": "code",
   "execution_count": 160,
   "metadata": {},
   "outputs": [
    {
     "name": "stdout",
     "output_type": "stream",
     "text": [
      "Probabilidad paradoja cumpleaños\n",
      "Para n= 23. La probabilidad es de 0.5072972343239855\n"
     ]
    }
   ],
   "source": [
    "def paradoja_prob(n):\n",
    "    casos_pos = 365\n",
    "    p = 1.0\n",
    "    for i in range(1, n+1):\n",
    "        casos_fav = 366 - i\n",
    "        p = p * casos_fav / casos_pos\n",
    "    return (1-p)\n",
    "    \n",
    "#Ejemplo\n",
    "print ('Probabilidad paradoja cumpleaños')\n",
    "print ('Para n= 23. La probabilidad es de '+ str(paradoja_prob(23)))\n"
   ]
  },
  {
   "cell_type": "markdown",
   "metadata": {},
   "source": [
    "> b) Simule la paradoja del cumpleaños con varios $N \\in [2,365]$ y obtenga la probabilidad empírica de encontrar dos personas con el mismo cumpleaños. Luego haga un gráfico de estas probabilidades en función de $N$ y la fórmula obtenida en a) y compare. \n",
    "\n",
    "*Tip: Como el orden de ejecución es $N\\cdot Simulaciones$ no es necesario que vaya de 1 en 1 con los $N$ puede ir de 3 en 3, 5 en 5, etc.*"
   ]
  },
  {
   "cell_type": "code",
   "execution_count": 161,
   "metadata": {},
   "outputs": [
    {
     "data": {
      "text/plain": [
       "<matplotlib.legend.Legend at 0x114e7dfd0>"
      ]
     },
     "execution_count": 161,
     "metadata": {},
     "output_type": "execute_result"
    },
    {
     "data": {
      "image/png": "[encoded data removed]",
      "text/plain": [
       "<Figure size 432x288 with 1 Axes>"
      ]
     },
     "metadata": {
      "needs_background": "light"
     },
     "output_type": "display_data"
    }
   ],
   "source": [
    "import matplotlib.pyplot as plt\n",
    "import random\n",
    "\n",
    "#creamos paradoja(n), recibe un N perteneciente al intervalo \n",
    "def paradoja(n):\n",
    "    cumpleanos = []\n",
    "    for i in range(0,n):\n",
    "        cumpleanos.append(random.randint(0,366))\n",
    "    for i in range(0,n):\n",
    "        for x in range(0,n):\n",
    "            if(cumpleanos[i] == cumpleanos[x] and i!=x):\n",
    "                return True\n",
    "    return False\n",
    "\n",
    "#k replicas para un n\n",
    "def prob(n,k):\n",
    "    c_favorables=0\n",
    "    casos_totales=0\n",
    "    for i in range(0,k):\n",
    "        if paradoja(n) == True:\n",
    "            c_favorables+=1\n",
    "            casos_totales+=1\n",
    "        else:\n",
    "            casos_totales+=1\n",
    "    prob= c_favorables/casos_totales\n",
    "    return prob\n",
    "        \n",
    "#Se simulara para varios N\n",
    "simulaciones=[] #lista para guardar valores de n\n",
    "probs=[] #lista para guardar probabilidades de n\n",
    "prob_a=[] #lista probabilidades con la formula de inciso a\n",
    "\n",
    "for i in range (2,366,5): #de 5 en 5\n",
    "    simulaciones.append(i)\n",
    "    probs.append(prob(i,1000)) #k replicas por simulacion, k=1000 se demora un poco, pero imprime un grafico mas correcto\n",
    "    prob_a.append(paradoja_prob(i))\n",
    "    \n",
    "#graficos simulaciones\n",
    "plt.ion() \n",
    "plt.plot(simulaciones,probs,label=\"Probabilidad simulaciones\" )\n",
    "plt.plot(simulaciones,prob_a, label=\"Probabilidad formula a\")\n",
    "plt.xlabel('Número de personas que se reúnen')\n",
    "plt.ylabel('Probabilidad de la paradoja')\n",
    "plt.title(\"Simulación Paradoja del cumpleaños\")\n",
    "plt.legend()\n",
    "\n"
   ]
  },
  {
   "cell_type": "markdown",
   "metadata": {},
   "source": [
    "El gráfico recién expuesto nos muestra la representación de las probabilidades para distintos N. Tal como lo describe la leyenda del gráfico la curva azul nos enseña el comportamiento de las probabilidades según el método de simulación, mientras que la curva de color anaranjado el comportamiento de las probabilidades según la formula expuesta en el inciso a).\n",
    "\n",
    "La curva de color azul, presenta una similitud cada vez mas cerca a la de color anaranjado mientras más grande es el valor de k, donde k corresponde a la cantidad de replicas por simulación para cada N.\n",
    "\n",
    "En caso opuesto , si este valor disminuye se puede observar cómo la curva azul presenta quiebres dentro de su recorrido esperado."
   ]
  },
  {
   "cell_type": "markdown",
   "metadata": {},
   "source": [
    ">c) Mediante simulación obtenga la cantidad de personas necesarias que debe asistir a la reunión para que la probabilidad de que al menos 2 personas estén de cumpleaños sea: 50%, 70% y 95%. Luego, para cada cantidad encontrada compare el valor de su probabilidad teórica mediante la fórmula que encontró en a). \n",
    "\n",
    "¿A qué se debe que al encontrar un valor empírico y evaluarlo en la fórmula de a) se observe un valor diferente que el encontrado? Si esto no le sucedió en su simulación, responda poniéndose en la siguiente situación:\n",
    "\n",
    "- Su simulación le arrojó que 30 es el 50%\n",
    "- F(30) es 0.45, claramente no llega al 50% (de ejemplo solamente)\n",
    "\n",
    "\n",
    "\n",
    "¿A qué se debe ese error?"
   ]
  },
  {
   "cell_type": "code",
   "execution_count": 162,
   "metadata": {},
   "outputs": [
    {
     "name": "stdout",
     "output_type": "stream",
     "text": [
      "Probabilidad Teórica\n",
      "Para que la probabilidad sea de al menos 50%, N debe valer 27\n",
      "Para que la probabilidad sea de al menos 70%, N debe valer 32\n",
      "Para que la probabilidad sea de al menos 95%, N debe valer 47\n",
      "\n",
      "Probabilidad con fórmula\n",
      "Con N= 27 la probabilidad es: 62.68592822632421%\n",
      "Con N= 32 la probabilidad es: 75.33475278503207%\n",
      "Con N= 47 la probabilidad es: 95.47744028332993%\n"
     ]
    }
   ],
   "source": [
    "#buscamos probabiliades 50%, 70% y 95% en la lista de probabilidades\n",
    "l50=[]\n",
    "l70=[]\n",
    "l95=[]\n",
    "for x in probs:\n",
    "    if x >= 0.5 and x<0.7:\n",
    "        l50.append(probs.index(x))\n",
    "    if x >=0.7 and x<0.95:\n",
    "        l70.append(probs.index(x))\n",
    "    if x >= 0.95:\n",
    "        l95.append(probs.index(x))\n",
    "p50 = simulaciones[l50[0]]\n",
    "p70 = simulaciones[l70[0]]\n",
    "p95 = simulaciones[l95[0]]\n",
    "print(\"Probabilidad Teórica\")\n",
    "print(\"Para que la probabilidad sea de al menos 50%, N debe valer \"+ str(p50))\n",
    "print(\"Para que la probabilidad sea de al menos 70%, N debe valer \"+ str(p70))\n",
    "print(\"Para que la probabilidad sea de al menos 95%, N debe valer \"+ str(p95)+\"\\n\")\n",
    "print(\"Probabilidad con fórmula\")\n",
    "print(\"Con N= \"+str(p50)+ \" la probabilidad es: \"+ str(paradoja_prob(p50)*100)+\"%\")\n",
    "print(\"Con N= \"+str(p70)+ \" la probabilidad es: \"+ str(paradoja_prob(p70)*100)+\"%\")\n",
    "print(\"Con N= \"+str(p95)+ \" la probabilidad es: \"+ str(paradoja_prob(p95)*100)+\"%\")\n"
   ]
  },
  {
   "cell_type": "markdown",
   "metadata": {},
   "source": [
    "El error se debe a que la simulación se esta realizando con un $N\\in [2,365]$ pero de 5 en 5, por lo cual pueden haber valores de $N$ que no evalúa, también otra causa es que depende de la cantidad de veces que se realice la simulación por cada $N$, mientras mayor sea este valor más representativa será la probabilidad. No debemos olvidar que las simulaciones utilizan la función $\\textit{random.randint()}$, una función que devuelve un valor aleatorio, los cuales pueden variar en las distintas simulaciones.\n",
    " \n",
    "\n"
   ]
  },
  {
   "cell_type": "markdown",
   "metadata": {},
   "source": [
    ">d) Si ahora nos interesa cuando 3, 4, 5 y 6 personas están de cumpleaños el mismo día. Realice un gráfico similar al del inciso b) pero esta vez con $P_{i}$ en función de $N$ donde $i \\in [2,6]$ Concluya respecto al comportamiento de las gráficas."
   ]
  },
  {
   "cell_type": "markdown",
   "metadata": {},
   "source": [
    "La fórmula para calcular la probabilidad $P_i$ de que $i$ personas estén de cumpleaños el mismo día, se dedujo de la siguiente manera:\n",
    "\n",
    "- $P(Al\\;menos\\;2)$ = $P(exactamente\\;2)$ + $P(exactamente\\;3)$  + $\\cdot \\cdot \\cdot$ +  $P(exactamente\\;n)$\n",
    "- $P(Al\\;menos\\;3)$ = $P(exactamente\\;3)$ + $P(exactamente\\;4)$  + $\\cdot \\cdot \\cdot$ +  $P(exactamente\\;n)$\n",
    "- $P(Al\\;menos\\;3) = P(Al\\;menos\\;2) - P(exactamente\\;2)  $\n",
    "\n",
    "Para $k$ personas:\n",
    "- $P(Al\\;menos\\;k) = P(Al\\;menos\\;(k-1)) - P(exactamente\\;(k-1))  $\n",
    "\n",
    "**Obs:** Notar que se puede representar recursivamente donde la base seria cuando $k=2$.\n",
    "\n",
    "Y la probabilidad para exactamente $k$ personas estén de cumpleaños el mismo día en un universo de $n$ personas, se define como:\n",
    "\n",
    "- $P(exactamente \\;k)=  \\frac{365!}{365^n (365-n+1)!}$ $n \\choose k$\n"
   ]
  },
  {
   "cell_type": "code",
   "execution_count": 163,
   "metadata": {},
   "outputs": [
    {
     "data": {
      "text/plain": [
       "<matplotlib.legend.Legend at 0x114fb7fd0>"
      ]
     },
     "execution_count": 163,
     "metadata": {},
     "output_type": "execute_result"
    },
    {
     "data": {
      "image/png": "[encoded data removed]",
      "text/plain": [
       "<Figure size 432x288 with 1 Axes>"
      ]
     },
     "metadata": {
      "needs_background": "light"
     },
     "output_type": "display_data"
    }
   ],
   "source": [
    "import math as m\n",
    "\n",
    "def combinatoria(n,p):\n",
    "    return (m.factorial(n)//(m.factorial(p)*m.factorial(n-p)))\n",
    "\n",
    "def exactamente_k(n,k):\n",
    "    num = m.factorial(365)\n",
    "    res = 365-n+1\n",
    "    den = (365**n)*(m.factorial(res))\n",
    "    resultado = (num/den)*combinatoria(n,k)\n",
    "    return resultado\n",
    "\n",
    "def prob_almenosk(n,k):\n",
    "    if k == 2:\n",
    "        return paradoja_prob(n)\n",
    "\n",
    "    return prob_almenosk(n,k-1)-exactamente_k(n,k-1)\n",
    "\n",
    "\n",
    "prob_3 = []\n",
    "prob_4 = []\n",
    "prob_5 = []\n",
    "prob_6 = []\n",
    "\n",
    "#valores negativos se pasaron a 0\n",
    "for i in range (2,366,5):\n",
    "    if (i<2 or prob_almenosk(i,3)<0):\n",
    "        prob_3.append(0)\n",
    "    else:\n",
    "        prob_3.append(prob_almenosk(i,3))\n",
    "        \n",
    "for i in range (2,366,5):\n",
    "    if (i<3 or prob_almenosk(i,4)<0):\n",
    "        prob_4.append(0)\n",
    "    else:\n",
    "        prob_4.append(prob_almenosk(i,4))\n",
    "\n",
    "for i in range (2,366,5):\n",
    "    if (i<4 or prob_almenosk(i,5)<0):\n",
    "        prob_5.append(0)\n",
    "    else:\n",
    "        prob_5.append(prob_almenosk(i,5))\n",
    "        \n",
    "for i in range (2,366,5):\n",
    "    if (i<5 or prob_almenosk(i,6)<0):\n",
    "        prob_6.append(0)\n",
    "    else:\n",
    "        prob_6.append(prob_almenosk(i,6))\n",
    "\n",
    "plt.ion() \n",
    "plt.plot(simulaciones,prob_a,label=\"P2\")\n",
    "plt.plot(simulaciones,prob_3,label=\"P3\")\n",
    "plt.plot(simulaciones,prob_4,label=\"P4\")\n",
    "plt.plot(simulaciones,prob_5,label=\"P5\")\n",
    "plt.plot(simulaciones,prob_6,label=\"P6\")\n",
    "plt.xlabel('Número de personas que se reúnen')\n",
    "plt.ylabel('Probabilidad de la paradoja')\n",
    "plt.title(\"Paradoja para i personas en un universo de n personas\")\n",
    "plt.legend()\n",
    "\n",
    "\n",
    "    \n",
    "    "
   ]
  },
  {
   "cell_type": "markdown",
   "metadata": {},
   "source": [
    ">e) Debido a una falla espacio-temporal usted ha sido re-ubicado a otra dimensión donde los años tienen 1000 días. Necesita comprar algo para comer y no morir de hambre mientras los científicos de dicho universo lo intentan enviar de vuelta a casa. Usted ha decidido apostar con una persona con la base de la paradoja del cumpleaños. ¿Cuántas personas debería haber en la junta para tener al menos una certeza del 90% de que ganará la apuesta?"
   ]
  },
  {
   "cell_type": "code",
   "execution_count": 164,
   "metadata": {},
   "outputs": [
    {
     "name": "stdout",
     "output_type": "stream",
     "text": [
      "Deben haber al menos 66 personas.\n"
     ]
    }
   ],
   "source": [
    "#Hay una persona que su cumpleaños esta en el rango [1,365], los demas todos [1,1000]\n",
    "def paradoja_prob2(n):\n",
    "    casos_pos = 1000\n",
    "    p = 1.0\n",
    "    for i in range(1, n+1):\n",
    "        casos_fav = 1001 - i\n",
    "        p = p * casos_fav / casos_pos\n",
    "    return (1-p)\n",
    "\n",
    "c_mil = []\n",
    "for i in range(2,366):\n",
    "    c_mil.append(paradoja_prob2(i))    \n",
    "for x in c_mil:\n",
    "    if x >= 0.9:\n",
    "        print (\"Deben haber al menos \"+ str(c_mil.index(x))+ \" personas.\")\n",
    "        break\n",
    "        \n"
   ]
  },
  {
   "cell_type": "markdown",
   "metadata": {},
   "source": [
    ">f) ¿Cuál es la probilidad de que una persona tenga el mismo cumpleaños que usted? (365 días)"
   ]
  },
  {
   "cell_type": "markdown",
   "metadata": {},
   "source": [
    "La probabilidad de que en una reunión de $n$ personas alguien tenga mi cumpleaños es de: $1-\\left({\\frac  {364}{365}}\\right)^{n}$, se necesitaría al menos una $n$ de 253 para dar un valor superior a 0,5."
   ]
  },
  {
   "cell_type": "code",
   "execution_count": 165,
   "metadata": {},
   "outputs": [
    {
     "data": {
      "text/plain": [
       "Text(0.5, 1.0, 'Probabilidad que una persona tenga mi mismo cumpleaños')"
      ]
     },
     "execution_count": 165,
     "metadata": {},
     "output_type": "execute_result"
    },
    {
     "data": {
      "image/png": "[encoded data removed]",
      "text/plain": [
       "<Figure size 432x288 with 1 Axes>"
      ]
     },
     "metadata": {
      "needs_background": "light"
     },
     "output_type": "display_data"
    }
   ],
   "source": [
    "def mi_cumple(n):\n",
    "    return 1- (364/365)**n\n",
    "mp=[]\n",
    "\n",
    "for i in range (2,366,5):\n",
    "    mp.append(mi_cumple(i))\n",
    "    \n",
    "plt.ion() \n",
    "plt.plot(simulaciones,mp) \n",
    "plt.xlabel('Número de personas que se reúnen')\n",
    "plt.ylabel('Probabilidad de la paradoja')\n",
    "plt.title(\"Probabilidad que una persona tenga mi mismo cumpleaños\")\n",
    "\n"
   ]
  },
  {
   "cell_type": "markdown",
   "metadata": {},
   "source": [
    "## 2. Redes Complejas\n",
    "\n"
   ]
  },
  {
   "cell_type": "markdown",
   "metadata": {},
   "source": [
    "El tema de Redes Complejas (grafos con muchos nodos) ha estado creciendo últimamente, sus orígenes se remontan a fines de los 90. Una de las propuestas para modelar la construcción de estas redes es la siguiente:\n",
    "\n",
    "1. Se inicia con un solo nodo \n",
    "2. En cada iteración se agrega un nuevo nodo.\n",
    "3. La probabilidad de unirse a un nodo viene dado por la siguiente expresión: $ P(Unirse\\,al\\,nodo_i) = \\frac{Grado\\,Nodo_i}{Grado\\,Total\\,Grafo}$ donde el Grado Total del Grafo corresponde a la suma de los grados de cada nodo perteneciente a este.\n",
    "4. Se repite (2) y (3) varias veces hasta tener una red bastante grande.\n",
    "\n",
    "A este tipo de red se les conoce como \"Scale Free\".\n",
    "\n",
    "Un listado de links para refrescar conceptos: \n",
    "\n",
    "* [Grafo](https://es.wikipedia.org/wiki/Grafo)\n",
    "* [Grado de un nodo](https://es.wikipedia.org/wiki/Grado_(teor%C3%ADa_de_grafos))\n",
    "\n",
    "\n",
    ">a) Simule grafos de: 100, 1000 y 5000 nodos de la forma indicada y haga un scatterplot de Cantidad de Nodos v/s Grado del Nodo para los 3 grafos.\n",
    "\n",
    "* Recuerde que las probabilidades se modifican después de agregar un nodo.\n",
    "* Puede hacer una única iteración de 5000 pasos y guardar el estado de la red en 1000, 5000 y 10000.\n",
    "* La matriz de adyacencia le facilitará el trabajo de obtener el grado de cada nodo (no es necesario hacerla, pero si tiene problemas encontrando alguna estructura de datos, esta le puede servir).\n",
    "\n",
    "Matriz de Adyacencia:\n",
    "\n",
    "Es una matriz cuadrada de $NxN$ donde en la posición $i,j$ hay un 1 si entre los nodos $i$ y $j$ hay una arista, de lo contrario esa entrada es 0. La diagonal en este casó será de 0 solamente.\n",
    "\n",
    "\n"
   ]
  },
  {
   "cell_type": "code",
   "execution_count": null,
   "metadata": {},
   "outputs": [],
   "source": []
  },
  {
   "cell_type": "markdown",
   "metadata": {},
   "source": [
    ">b) Observando los gráficos realizados en a) ¿Qué puede decirse acerca de la distribución de grado?"
   ]
  },
  {
   "cell_type": "code",
   "execution_count": null,
   "metadata": {},
   "outputs": [],
   "source": []
  },
  {
   "cell_type": "markdown",
   "metadata": {},
   "source": [
    ">c) Si se quitan aristas con una probabilidad $\\rho$ ¿Cómo cambia la distribución de grado del grafo de 10000 nodos? Genere gráficos de Cantidad de Nodos v/s Grado del Nodo para distintos valores de $\\rho$ para ayudarle en su respuesta. ¿Sigue siendo de libre escala, pierde forma definida o se asemeja a otra distribución?\n"
   ]
  },
  {
   "cell_type": "code",
   "execution_count": null,
   "metadata": {},
   "outputs": [],
   "source": []
  },
  {
   "cell_type": "markdown",
   "metadata": {},
   "source": [
    "## 3. Artistas Musicales\n",
    "\n",
    "En esta sección usted cuenta con dos datasets \"albums.csv\" y \"artists.csv\", el primero cuenta con información de álbums musicales lanzados por diversos artistas como el número de ventas, el estilo musical, puntajes según distintos críticos, etc. El segundo contiene datos sobre diversos artistas, como su nombre, puesto en la banda, pais de origen, etc. \n",
    "\n",
    "Para información más detallada de los datasets [aquí](https://www.kaggle.com/revilrosa/music-label-dataset#artists.csv)"
   ]
  },
  {
   "cell_type": "markdown",
   "metadata": {},
   "source": [
    ">a) Cargue ambos dataset, cuente la cantidad de celdas nulas por columna en c/u y limpielas si cree necesario. "
   ]
  },
  {
   "cell_type": "code",
   "execution_count": 145,
   "metadata": {},
   "outputs": [
    {
     "name": "stdout",
     "output_type": "stream",
     "text": [
      "Álbumes\n"
     ]
    },
    {
     "data": {
      "text/html": [
       "<div>\n",
       "<style scoped>\n",
       "    .dataframe tbody tr th:only-of-type {\n",
       "        vertical-align: middle;\n",
       "    }\n",
       "\n",
       "    .dataframe tbody tr th {\n",
       "        vertical-align: top;\n",
       "    }\n",
       "\n",
       "    .dataframe thead th {\n",
       "        text-align: right;\n",
       "    }\n",
       "</style>\n",
       "<table border=\"1\" class=\"dataframe\">\n",
       "  <thead>\n",
       "    <tr style=\"text-align: right;\">\n",
       "      <th></th>\n",
       "      <th>artist_id</th>\n",
       "      <th>album_title</th>\n",
       "      <th>genre</th>\n",
       "      <th>year_of_pub</th>\n",
       "      <th>num_of_tracks</th>\n",
       "      <th>num_of_sales</th>\n",
       "      <th>rolling_stone_critic</th>\n",
       "      <th>mtv_critic</th>\n",
       "      <th>music_maniac_critic</th>\n",
       "    </tr>\n",
       "    <tr>\n",
       "      <th>id</th>\n",
       "      <th></th>\n",
       "      <th></th>\n",
       "      <th></th>\n",
       "      <th></th>\n",
       "      <th></th>\n",
       "      <th></th>\n",
       "      <th></th>\n",
       "      <th></th>\n",
       "      <th></th>\n",
       "    </tr>\n",
       "  </thead>\n",
       "  <tbody>\n",
       "    <tr>\n",
       "      <th>1</th>\n",
       "      <td>1767</td>\n",
       "      <td>Call me Cat Moneyless That Doggies</td>\n",
       "      <td>Folk</td>\n",
       "      <td>2006</td>\n",
       "      <td>11</td>\n",
       "      <td>905193</td>\n",
       "      <td>4.0</td>\n",
       "      <td>1.5</td>\n",
       "      <td>3.0</td>\n",
       "    </tr>\n",
       "    <tr>\n",
       "      <th>2</th>\n",
       "      <td>23548</td>\n",
       "      <td>Down Mare</td>\n",
       "      <td>Metal</td>\n",
       "      <td>2014</td>\n",
       "      <td>7</td>\n",
       "      <td>969122</td>\n",
       "      <td>3.0</td>\n",
       "      <td>4.0</td>\n",
       "      <td>5.0</td>\n",
       "    </tr>\n",
       "    <tr>\n",
       "      <th>3</th>\n",
       "      <td>17822</td>\n",
       "      <td>Embarrassed Hungry</td>\n",
       "      <td>Latino</td>\n",
       "      <td>2000</td>\n",
       "      <td>11</td>\n",
       "      <td>522095</td>\n",
       "      <td>2.5</td>\n",
       "      <td>1.0</td>\n",
       "      <td>2.0</td>\n",
       "    </tr>\n",
       "    <tr>\n",
       "      <th>4</th>\n",
       "      <td>19565</td>\n",
       "      <td>Standard Immediate Engineer Slovakia</td>\n",
       "      <td>Pop</td>\n",
       "      <td>2017</td>\n",
       "      <td>4</td>\n",
       "      <td>610116</td>\n",
       "      <td>1.5</td>\n",
       "      <td>2.0</td>\n",
       "      <td>4.0</td>\n",
       "    </tr>\n",
       "    <tr>\n",
       "      <th>5</th>\n",
       "      <td>24941</td>\n",
       "      <td>Decent Distance Georgian</td>\n",
       "      <td>Black Metal</td>\n",
       "      <td>2010</td>\n",
       "      <td>8</td>\n",
       "      <td>151111</td>\n",
       "      <td>4.5</td>\n",
       "      <td>2.5</td>\n",
       "      <td>1.0</td>\n",
       "    </tr>\n",
       "  </tbody>\n",
       "</table>\n",
       "</div>"
      ],
      "text/plain": [
       "    artist_id                           album_title        genre  year_of_pub  \\\n",
       "id                                                                              \n",
       "1        1767    Call me Cat Moneyless That Doggies         Folk         2006   \n",
       "2       23548                             Down Mare        Metal         2014   \n",
       "3       17822                    Embarrassed Hungry       Latino         2000   \n",
       "4       19565  Standard Immediate Engineer Slovakia          Pop         2017   \n",
       "5       24941              Decent Distance Georgian  Black Metal         2010   \n",
       "\n",
       "    num_of_tracks  num_of_sales  rolling_stone_critic  mtv_critic  \\\n",
       "id                                                                  \n",
       "1              11        905193                   4.0         1.5   \n",
       "2               7        969122                   3.0         4.0   \n",
       "3              11        522095                   2.5         1.0   \n",
       "4               4        610116                   1.5         2.0   \n",
       "5               8        151111                   4.5         2.5   \n",
       "\n",
       "    music_maniac_critic  \n",
       "id                       \n",
       "1                   3.0  \n",
       "2                   5.0  \n",
       "3                   2.0  \n",
       "4                   4.0  \n",
       "5                   1.0  "
      ]
     },
     "metadata": {},
     "output_type": "display_data"
    },
    {
     "name": "stdout",
     "output_type": "stream",
     "text": [
      "Artistas\n"
     ]
    },
    {
     "data": {
      "text/html": [
       "<div>\n",
       "<style scoped>\n",
       "    .dataframe tbody tr th:only-of-type {\n",
       "        vertical-align: middle;\n",
       "    }\n",
       "\n",
       "    .dataframe tbody tr th {\n",
       "        vertical-align: top;\n",
       "    }\n",
       "\n",
       "    .dataframe thead th {\n",
       "        text-align: right;\n",
       "    }\n",
       "</style>\n",
       "<table border=\"1\" class=\"dataframe\">\n",
       "  <thead>\n",
       "    <tr style=\"text-align: right;\">\n",
       "      <th></th>\n",
       "      <th>real_name</th>\n",
       "      <th>art_name</th>\n",
       "      <th>role</th>\n",
       "      <th>year_of_birth</th>\n",
       "      <th>country</th>\n",
       "      <th>city</th>\n",
       "      <th>email</th>\n",
       "      <th>zip_code</th>\n",
       "    </tr>\n",
       "    <tr>\n",
       "      <th>id</th>\n",
       "      <th></th>\n",
       "      <th></th>\n",
       "      <th></th>\n",
       "      <th></th>\n",
       "      <th></th>\n",
       "      <th></th>\n",
       "      <th></th>\n",
       "      <th></th>\n",
       "    </tr>\n",
       "  </thead>\n",
       "  <tbody>\n",
       "    <tr>\n",
       "      <th>1</th>\n",
       "      <td>Kameko Nelson</td>\n",
       "      <td>NaN</td>\n",
       "      <td>female voice</td>\n",
       "      <td>1981</td>\n",
       "      <td>Slovenia</td>\n",
       "      <td>Vedrin</td>\n",
       "      <td>lorem.tristique.aliquet@nonummyFusce.co.uk</td>\n",
       "      <td>6914</td>\n",
       "    </tr>\n",
       "    <tr>\n",
       "      <th>2</th>\n",
       "      <td>Sacha Cameron</td>\n",
       "      <td>Bianco Ibureno Chloride</td>\n",
       "      <td>artist</td>\n",
       "      <td>1955</td>\n",
       "      <td>Guernsey</td>\n",
       "      <td>Montigny-le-Tilleul</td>\n",
       "      <td>Sed@elementum.com</td>\n",
       "      <td>0568</td>\n",
       "    </tr>\n",
       "    <tr>\n",
       "      <th>3</th>\n",
       "      <td>Thane E. Oliver</td>\n",
       "      <td>NaN</td>\n",
       "      <td>rapper</td>\n",
       "      <td>1993</td>\n",
       "      <td>Guinea-Bissau</td>\n",
       "      <td>Saint-Sébastien-sur-Loire</td>\n",
       "      <td>Integer.tincidunt.aliquam@libero.com</td>\n",
       "      <td>813154</td>\n",
       "    </tr>\n",
       "    <tr>\n",
       "      <th>4</th>\n",
       "      <td>Cole E. Joseph</td>\n",
       "      <td>Persian responsible</td>\n",
       "      <td>bassist</td>\n",
       "      <td>1994</td>\n",
       "      <td>Estonia</td>\n",
       "      <td>Newquay</td>\n",
       "      <td>nulla.magna.malesuada@vulputate.com</td>\n",
       "      <td>A4S 2B3</td>\n",
       "    </tr>\n",
       "    <tr>\n",
       "      <th>5</th>\n",
       "      <td>Sonia U. Jensen</td>\n",
       "      <td>Asleep lonely Big Morgan</td>\n",
       "      <td>DJ</td>\n",
       "      <td>1988</td>\n",
       "      <td>Vanuatu</td>\n",
       "      <td>Dudzele</td>\n",
       "      <td>faucibus@euismodetcommodo.edu</td>\n",
       "      <td>46418</td>\n",
       "    </tr>\n",
       "  </tbody>\n",
       "</table>\n",
       "</div>"
      ],
      "text/plain": [
       "          real_name                  art_name          role  year_of_birth  \\\n",
       "id                                                                           \n",
       "1     Kameko Nelson                       NaN  female voice           1981   \n",
       "2     Sacha Cameron   Bianco Ibureno Chloride        artist           1955   \n",
       "3   Thane E. Oliver                       NaN        rapper           1993   \n",
       "4    Cole E. Joseph       Persian responsible       bassist           1994   \n",
       "5   Sonia U. Jensen  Asleep lonely Big Morgan            DJ           1988   \n",
       "\n",
       "          country                       city  \\\n",
       "id                                             \n",
       "1        Slovenia                     Vedrin   \n",
       "2        Guernsey        Montigny-le-Tilleul   \n",
       "3   Guinea-Bissau  Saint-Sébastien-sur-Loire   \n",
       "4         Estonia                    Newquay   \n",
       "5         Vanuatu                    Dudzele   \n",
       "\n",
       "                                         email zip_code  \n",
       "id                                                       \n",
       "1   lorem.tristique.aliquet@nonummyFusce.co.uk     6914  \n",
       "2                            Sed@elementum.com     0568  \n",
       "3         Integer.tincidunt.aliquam@libero.com   813154  \n",
       "4          nulla.magna.malesuada@vulputate.com  A4S 2B3  \n",
       "5                faucibus@euismodetcommodo.edu    46418  "
      ]
     },
     "metadata": {},
     "output_type": "display_data"
    },
    {
     "name": "stdout",
     "output_type": "stream",
     "text": [
      "\n",
      "Tipos de datos\n",
      "\n",
      "artist_id                 int64\n",
      "album_title              object\n",
      "genre                    object\n",
      "year_of_pub               int64\n",
      "num_of_tracks             int64\n",
      "num_of_sales              int64\n",
      "rolling_stone_critic    float64\n",
      "mtv_critic              float64\n",
      "music_maniac_critic     float64\n",
      "dtype: object\n",
      "real_name        object\n",
      "art_name         object\n",
      "role             object\n",
      "year_of_birth     int64\n",
      "country          object\n",
      "city             object\n",
      "email            object\n",
      "zip_code         object\n",
      "dtype: object\n",
      "\n",
      "Columnas nulas \n",
      "\n",
      "artist_id               0\n",
      "album_title             0\n",
      "genre                   0\n",
      "year_of_pub             0\n",
      "num_of_tracks           0\n",
      "num_of_sales            0\n",
      "rolling_stone_critic    0\n",
      "mtv_critic              0\n",
      "music_maniac_critic     0\n",
      "dtype: int64\n",
      "real_name            0\n",
      "art_name         16709\n",
      "role                 0\n",
      "year_of_birth        0\n",
      "country              0\n",
      "city                 0\n",
      "email                0\n",
      "zip_code             0\n",
      "dtype: int64\n"
     ]
    }
   ],
   "source": [
    "import pandas as pd\n",
    "import numpy as np\n",
    "\n",
    "# Leer archivos\n",
    "albums = pd.read_csv('albums.csv', index_col = 'id')\n",
    "artists = pd.read_csv('artists.csv', index_col = 'id')\n",
    "# Visualizar estructura\n",
    "print('Álbumes')\n",
    "display(albums.head())\n",
    "print('Artistas')\n",
    "display(artists.head())\n",
    "# Ver tipo de datos\n",
    "print('\\nTipos de datos\\n')\n",
    "print(albums.dtypes)\n",
    "print(artists.dtypes)\n",
    "# Ver columnas con entradas nulas\n",
    "print('\\nColumnas nulas \\n')\n",
    "print(albums.isnull().sum())\n",
    "print(artists.isnull().sum())\n",
    "# Eliminar columnas irrelevantes\n",
    "artists.drop(['email', 'zip_code'], axis=1, inplace=True)"
   ]
  },
  {
   "cell_type": "code",
   "execution_count": null,
   "metadata": {},
   "outputs": [],
   "source": [
    "#artists[['year_of_birth' > 1985]]\n",
    "artists[artists.year_of_birth > 1985].sort_values('year_of_birth', ascending=False).head()\n",
    "#?pd.DataFrame\n",
    "#dir(pd.DataFrame)"
   ]
  },
  {
   "cell_type": "markdown",
   "metadata": {},
   "source": [
    "Visualizando la estructura general, no se encuentran mayores problemas. La única columna que se encontraron valores nulos fue en art_name de artistas, pero dichos valores sol válidos al no ser obligatorio un nombre artístico para cada artista, por lo que se decidió mantenerlos como nulos. También, se verificó que los tipos de datos fueran los adecuados para poder trabajarlos y se eliminó columnas que se consideraron irrelevantes para el estudio como zip_code o email."
   ]
  },
  {
   "cell_type": "markdown",
   "metadata": {},
   "source": [
    ">b) Responda las siguientes preguntas utilizando recursos visuales (tablas, gráficos). \n",
    "\n",
    "* Haga un top 10 de los mejores álbumes para cada crítico\n",
    "* En función del puntaje promedio, ordene los géneros musicales de mejor ranking a peor.\n",
    "* Top 5 de países con álbumes mejor calificados.\n",
    "* Top 10 de artistas con más albumes publicados.\n",
    "* ¿Qué generos predominan en los artistas Chilenos?\n",
    "* Separando a los artistas en los que nacieron antes de 1980 y de 1980 en adelante. Si consideramos los años 2005, 2010, 2015 y 2019 ¿cómo han ido evolucionando los puntajes promedio de ambos grupos con el paso del tiempo? ¿Es posible evidenciar alguna tendencia?\n",
    "* Haga una línea del tiempo donde en cada año se indique los 3 géneros con más álbumes publicados* ¿Se evidencia alguna tendencia? Haga la misma línea de tiempo para algún páis en específico de su elección y compare, si en algún año no hubo publicación deje la casilla marcada con \"-\".\n",
    "\n",
    "Para la línea del tiempo se sugiere un formato como el siguiente: \n",
    "\n",
    "| 2000 | 2001 | 2002 | 2003 | 2004 |\n",
    "|------|------|------|------|------|\n",
    "| 1°   | 1°   | 1°   | 1°   | 1°   |\n",
    "| 2°   | 2°   | 2°   | 2°   | 2°   |\n",
    "| 3°   | 3°   | 3°   | -   | 3°   |\n",
    "\n",
    "* ¿Hay alguna diferencia en los géneros que artistas Chilenos, Argentinos, Peruanos y Bolivianos publicaban?"
   ]
  },
  {
   "cell_type": "code",
   "execution_count": null,
   "metadata": {},
   "outputs": [],
   "source": []
  },
  {
   "cell_type": "markdown",
   "metadata": {},
   "source": [
    ">c) Utilizando el siguiente subconjunto de países: \"United States\", \"Chile\", \"Japan\", ¿es el país un buen predictor del puntaje promedio? ¿Y viceversa? Responda utilizando criterios de probabilidad condicional y considere los intervalos del puntaje promedio en los percentiles: $[0,33],[34,66],[67,100]$. ¿Importa si se utiliza solo el subconjunto de datos o el dataset entero? \n",
    "\n",
    "\n",
    "**Bonus +10** El país como predictor del puntaje en cada crítico y viceversa."
   ]
  },
  {
   "cell_type": "code",
   "execution_count": null,
   "metadata": {},
   "outputs": [],
   "source": []
  },
  {
   "cell_type": "markdown",
   "metadata": {},
   "source": [
    ">d) ¿Se puede decir que el género de un álbum es buen predictor del número de ventas? ¿Y viceversa? Responda utilizando criterios de probabilidad condicional. \n",
    "\n",
    "Fije los intervalos de las ventas en los cuartiles "
   ]
  },
  {
   "cell_type": "code",
   "execution_count": null,
   "metadata": {},
   "outputs": [],
   "source": []
  },
  {
   "cell_type": "markdown",
   "metadata": {},
   "source": [
    "## Reglas del Juego y Comentarios \n",
    "\n",
    "+ Errores ortográficos, de redacción y oraciones ambiguas descontarán parte de su puntaje.\n",
    "+ Las dudas deberán ser publicadas en moodle para que sus compañeros puedan beneficiarse de la respuesta, no se aceptarán dudas vía correo ni redes sociales, esto es para fomentar que todos tengan la misma información.\n",
    "+ Cada día de atraso descuenta 25 puntos de la nota final con un máximo de dos días de retraso (después es 0).\n",
    "+ La versión de R que se usará para revisar es 3.6.1\n",
    "+ La versión de Python que se usará para revisar es 3.6.8\n",
    "+ Use cualquier librería que estime conveniente, si requiere de instalación explicitarlo en el README (y bien explicitado).\n",
    "+ Código comentado para facilitar entendimiento.\n",
    "+ Sea formal y claro con su respuesta, **explique su procedimiento y luego responda.** \n",
    "+ Defina bien las secciones de su notebook, el orden siempre es bueno :) [Tips para usar Markdown](https://github.com/adam-p/markdown-here/wiki/Markdown-Cheatsheet)"
   ]
  }
 ],
 "metadata": {
  "kernelspec": {
   "display_name": "Python 3",
   "language": "python",
   "name": "python3"
  },
  "language_info": {
   "codemirror_mode": {
    "name": "ipython",
    "version": 3
   },
   "file_extension": ".py",
   "mimetype": "text/x-python",
   "name": "python",
   "nbconvert_exporter": "python",
   "pygments_lexer": "ipython3",
   "version": "3.7.3"
  }
 },
 "nbformat": 4,
 "nbformat_minor": 4
}
